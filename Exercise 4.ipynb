{
 "cells": [
  {
   "cell_type": "markdown",
   "id": "fd86e263",
   "metadata": {},
   "source": [
    "## Task 1"
   ]
  },
  {
   "cell_type": "markdown",
   "id": "68cb60f3",
   "metadata": {},
   "source": [
    "### (a)   Cluster centroids"
   ]
  },
  {
   "cell_type": "code",
   "execution_count": 1,
   "id": "d8538ae5",
   "metadata": {},
   "outputs": [],
   "source": [
    "import numpy as np"
   ]
  },
  {
   "cell_type": "code",
   "execution_count": 2,
   "id": "5497810a",
   "metadata": {},
   "outputs": [],
   "source": [
    "# Form the array from the given data points\n",
    "arr = np.array([\n",
    "    [1.2, 0.8],\n",
    "    [-0.6, -1.3],\n",
    "    [-0.8, 0.2],\n",
    "    [0.2, 0.3]\n",
    "])"
   ]
  },
  {
   "cell_type": "code",
   "execution_count": 3,
   "id": "c85d160d",
   "metadata": {},
   "outputs": [],
   "source": [
    "# Obtain the centroids of arrays 0 and 2 and arrays 1 and 3\n",
    "centroid_1 = np.mean(arr[[0,2]], axis=0)\n",
    "centroid_2 = np.mean(arr[[1,3]], axis=0)"
   ]
  },
  {
   "cell_type": "code",
   "execution_count": 4,
   "id": "df078ae2",
   "metadata": {},
   "outputs": [],
   "source": [
    "# Evaluate the new centroids until the centroid for each cluster does not change\n",
    "while True:\n",
    "    distance_to_centroid_1 = np.linalg.norm(arr - centroid_1, axis=1)\n",
    "    distance_to_centroid_2 = np.linalg.norm(arr - centroid_2, axis=1)\n",
    "    labels = np.where(distance_to_centroid_1 < distance_to_centroid_2, 0, 1)\n",
    "    new_centroid_1 = np.mean(arr[labels == 0], axis=0)\n",
    "    new_centroid_2 = np.mean(arr[labels == 1], axis=0)\n",
    "    if np.array_equal(centroid_1, new_centroid_1) and np.array_equal(centroid_2, new_centroid_2):\n",
    "        break;\n",
    "    centroid_1 = new_centroid_1\n",
    "    centroid_2 = new_centroid_2"
   ]
  },
  {
   "cell_type": "code",
   "execution_count": 5,
   "id": "5060b98c",
   "metadata": {},
   "outputs": [
    {
     "name": "stdout",
     "output_type": "stream",
     "text": [
      "[0.7  0.55] [-0.7  -0.55]\n"
     ]
    }
   ],
   "source": [
    "print(centroid_1, centroid_2)"
   ]
  },
  {
   "cell_type": "markdown",
   "id": "2d6097cc",
   "metadata": {},
   "source": [
    "### (b)   Silhouette Coefficients"
   ]
  },
  {
   "cell_type": "code",
   "execution_count": 6,
   "id": "4cb77da7",
   "metadata": {},
   "outputs": [],
   "source": [
    "from sklearn.metrics import silhouette_score, silhouette_samples\n",
    "from sklearn.cluster import KMeans\n",
    "import matplotlib.pyplot as plt"
   ]
  },
  {
   "cell_type": "code",
   "execution_count": 7,
   "id": "ac5c60d4",
   "metadata": {},
   "outputs": [],
   "source": [
    "# Obtain the average silhouette score of the clustering\n",
    "silhouette_avg = silhouette_score(arr, labels)"
   ]
  },
  {
   "cell_type": "code",
   "execution_count": 9,
   "id": "b60dc31b",
   "metadata": {},
   "outputs": [],
   "source": [
    "# Obtain the silhouette scores for each data point\n",
    "silhouette_samples_values = silhouette_samples(arr, labels)"
   ]
  },
  {
   "cell_type": "code",
   "execution_count": 43,
   "id": "b2b2d948",
   "metadata": {},
   "outputs": [
    {
     "data": {
      "image/png": "[encoded data removed]",
      "text/plain": [
       "<Figure size 640x480 with 1 Axes>"
      ]
     },
     "metadata": {},
     "output_type": "display_data"
    }
   ],
   "source": [
    "# Plot the silhouette coefficients\n",
    "fig, ax = plt.subplots()\n",
    "y_lower = 10\n",
    "for i in range(2):\n",
    "    ith_cluster_silhouette_values = silhouette_samples_values[labels == i]\n",
    "    ith_cluster_silhouette_values.sort()\n",
    "\n",
    "    size_cluster_i = ith_cluster_silhouette_values.shape[0]\n",
    "    y_upper = y_lower + size_cluster_i\n",
    "\n",
    "    color = plt.cm.nipy_spectral(float(i) / 2)\n",
    "    plt.fill_betweenx(np.arange(y_lower, y_upper),\n",
    "                      0, ith_cluster_silhouette_values,\n",
    "                      facecolor=color, edgecolor=color, alpha=0.7)\n",
    "\n",
    "    # Label the silhouette plots with their cluster numbers at the middle\n",
    "    plt.text(-0.05, y_lower + 0.5 * size_cluster_i, str(i))\n",
    "    \n",
    "    # Compute the new y_lower for next plot\n",
    "    y_lower = y_upper + 10  # 10 for the 0 samples\n",
    "\n",
    "ax.set_yticks([])\n",
    "plt.title(\"Silhouette plot for K-Means clustering\")\n",
    "plt.xlabel(\"Silhouette coefficient values\")\n",
    "plt.ylabel(\"Cluster label\")\n",
    "plt.show()"
   ]
  },
  {
   "cell_type": "markdown",
   "id": "9e5f349b",
   "metadata": {},
   "source": [
    "(c) Silhouettes are used to determine if the data points are in the right clusters. Its value ranges from -1 to 1, where 1 implies that the data point is correctly assigned to the right cluster and -1 implies that the data point may not be correctly assigned to the right cluster. Silhouette coefficients are used to measure how close a data point is to its own cluster compared to other clusters."
   ]
  },
  {
   "cell_type": "markdown",
   "id": "de3bf5c4",
   "metadata": {},
   "source": [
    "## Task 2"
   ]
  },
  {
   "cell_type": "markdown",
   "id": "f1a8e814",
   "metadata": {},
   "source": [
    "### (a) Hierarchical clustering"
   ]
  },
  {
   "cell_type": "code",
   "execution_count": 12,
   "id": "681ce929",
   "metadata": {},
   "outputs": [],
   "source": [
    "import pandas as pd\n",
    "import scipy.cluster.hierarchy as sch\n",
    "from scipy.spatial.distance import pdist, squareform"
   ]
  },
  {
   "cell_type": "code",
   "execution_count": 25,
   "id": "1f884081",
   "metadata": {},
   "outputs": [],
   "source": [
    "# Convert the dataset to dataframe\n",
    "distance_matrix = pd.read_csv('distancematrix.csv', sep=';', index_col=0)"
   ]
  },
  {
   "cell_type": "code",
   "execution_count": 26,
   "id": "43935025",
   "metadata": {},
   "outputs": [],
   "source": [
    "# Convert the dataframe to a numpy array\n",
    "distancematrixarr = distance_matrix.to_numpy()"
   ]
  },
  {
   "cell_type": "code",
   "execution_count": 27,
   "id": "17a48215",
   "metadata": {},
   "outputs": [],
   "source": [
    "# Obtain the lower triangular part of the array\n",
    "lower_triangular = distancematrixarr[np.tril_indices(4, -1)]"
   ]
  },
  {
   "cell_type": "code",
   "execution_count": 32,
   "id": "f0c2b030",
   "metadata": {},
   "outputs": [],
   "source": [
    "# Convert the 1d lower triangular array to a square array\n",
    "square_lower_triangular = squareform(lower_triangular)"
   ]
  },
  {
   "cell_type": "code",
   "execution_count": 33,
   "id": "69858a98",
   "metadata": {},
   "outputs": [],
   "source": [
    "# Condense the square array\n",
    "condensed_matrix = pdist(square_lower_triangular)"
   ]
  },
  {
   "cell_type": "code",
   "execution_count": 34,
   "id": "3c8cca1b",
   "metadata": {},
   "outputs": [],
   "source": [
    "# Convert the condensed form to a square array\n",
    "reconstructed_matrix = squareform(condensed_matrix)"
   ]
  },
  {
   "cell_type": "code",
   "execution_count": 36,
   "id": "66223e2f",
   "metadata": {},
   "outputs": [
    {
     "data": {
      "image/png": "[encoded data removed]",
      "text/plain": [
       "<Figure size 640x480 with 1 Axes>"
      ]
     },
     "metadata": {},
     "output_type": "display_data"
    }
   ],
   "source": [
    "# Plot the dendrogram\n",
    "import warnings\n",
    "warnings.filterwarnings('ignore')\n",
    "dendrogram = sch.dendrogram(\n",
    "    sch.linkage(condensed_lower_triangular, method='average'),\n",
    "    labels=[f'Point {i}' for i in range(condensed_lower_triangular.shape[0])], leaf_rotation=90\n",
    ")"
   ]
  },
  {
   "cell_type": "markdown",
   "id": "be8bac4d",
   "metadata": {},
   "source": [
    "(b)   Partitional clustering involves predefining k-number of clusters which is used into segment objects to different clusters. Hierarchical clustering provides a tree-like structure of clusters which form a dendrogram."
   ]
  },
  {
   "cell_type": "markdown",
   "id": "1b75f342",
   "metadata": {},
   "source": [
    "(c) In hard clustering, data points are assigned to exactly one cluster. An example is the K-Means algorithm which assigns data points to the clusters of the nearest centroid. In soft clustering, data points can be assigned to multiple clusters. An example is the Fuzzy C-Means (FCM). Soft clustering is however slower than hard clustering and can be more computationally extensive."
   ]
  },
  {
   "cell_type": "markdown",
   "id": "ef496aee",
   "metadata": {},
   "source": [
    "(d) Density-based clustering identifies clusters based on densities of local data points. The clusters consist of core point which is a minimum number of data points within a certain radius and border points. If data points are not within the core points, they could be on the border, hence, they are border points. Its advantages include discovering clusters of arbitrary shape and not needing an initial number of clusters. However, it does not work well with high dimensional datasets. It also struggles with clusters that have similar density."
   ]
  }
 ],
 "metadata": {
  "kernelspec": {
   "display_name": "Python 3 (ipykernel)",
   "language": "python",
   "name": "python3"
  },
  "language_info": {
   "codemirror_mode": {
    "name": "ipython",
    "version": 3
   },
   "file_extension": ".py",
   "mimetype": "text/x-python",
   "name": "python",
   "nbconvert_exporter": "python",
   "pygments_lexer": "ipython3",
   "version": "3.9.18"
  }
 },
 "nbformat": 4,
 "nbformat_minor": 5
}
