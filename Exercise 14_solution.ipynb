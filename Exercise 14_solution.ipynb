{
 "cells": [
  {
   "cell_type": "code",
   "execution_count": 21,
   "id": "3d8e21ec",
   "metadata": {},
   "outputs": [],
   "source": [
    "import numpy as np\n",
    "from numpy.polynomial import Polynomial\n",
    "import pandas as pd"
   ]
  },
  {
   "cell_type": "markdown",
   "id": "5fbed95c",
   "metadata": {},
   "source": [
    "## Using polyfit"
   ]
  },
  {
   "cell_type": "code",
   "execution_count": 27,
   "id": "65f09f7e",
   "metadata": {},
   "outputs": [],
   "source": [
    "# Create the variables\n",
    "x = np.array([-1,2,1,0])\n",
    "x_squared = x ** 2\n",
    "y = np.array([0,1,-1,1])"
   ]
  },
  {
   "cell_type": "code",
   "execution_count": 32,
   "id": "6adb5423",
   "metadata": {},
   "outputs": [],
   "source": [
    "# Fit the data to produce a polynomial of second degree\n",
    "poly = np.polyfit(x,y,2)\n",
    "coeff = Polynomial(poly)"
   ]
  },
  {
   "cell_type": "code",
   "execution_count": 33,
   "id": "995f02e5",
   "metadata": {},
   "outputs": [
    {
     "data": {
      "text/latex": [
       "$x \\mapsto \\text{0.25} - \\text{0.15}\\,x - \\text{0.05}\\,x^{2}$"
      ],
      "text/plain": [
       "Polynomial([ 0.25, -0.15, -0.05], domain=[-1,  1], window=[-1,  1], symbol='x')"
      ]
     },
     "execution_count": 33,
     "metadata": {},
     "output_type": "execute_result"
    }
   ],
   "source": [
    "coeff"
   ]
  },
  {
   "cell_type": "markdown",
   "id": "3b35d31d",
   "metadata": {},
   "source": [
    "## Using pseudoinverse"
   ]
  },
  {
   "cell_type": "code",
   "execution_count": 29,
   "id": "88dea078",
   "metadata": {},
   "outputs": [],
   "source": [
    "# Create a dataframe of the variables\n",
    "df = pd.DataFrame({\n",
    "    'x_squared': x_squared,\n",
    "    'x': x,\n",
    "    'y': y,\n",
    "    'ones': np.ones(4)\n",
    "})"
   ]
  },
  {
   "cell_type": "code",
   "execution_count": 30,
   "id": "4b9fbd09",
   "metadata": {},
   "outputs": [],
   "source": [
    "# Separate the features and target variables\n",
    "X = df[['x_squared', 'x', 'ones']]\n",
    "y= df['y']"
   ]
  },
  {
   "cell_type": "code",
   "execution_count": 31,
   "id": "581f056a",
   "metadata": {},
   "outputs": [
    {
     "data": {
      "text/plain": [
       "array([ 0.25, -0.15, -0.05])"
      ]
     },
     "execution_count": 31,
     "metadata": {},
     "output_type": "execute_result"
    }
   ],
   "source": [
    "# Apply pseudoinverse method to obtain the coefficients\n",
    "X_pseudoinv = np.linalg.pinv(X)\n",
    "coeff = np.dot(X_pseudoinv, y)\n",
    "coeff"
   ]
  }
 ],
 "metadata": {
  "kernelspec": {
   "display_name": "Python 3 (ipykernel)",
   "language": "python",
   "name": "python3"
  },
  "language_info": {
   "codemirror_mode": {
    "name": "ipython",
    "version": 3
   },
   "file_extension": ".py",
   "mimetype": "text/x-python",
   "name": "python",
   "nbconvert_exporter": "python",
   "pygments_lexer": "ipython3",
   "version": "3.9.18"
  }
 },
 "nbformat": 4,
 "nbformat_minor": 5
}
