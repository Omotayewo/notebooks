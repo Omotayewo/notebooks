{
 "cells": [
  {
   "cell_type": "markdown",
   "id": "fbc6c1a0",
   "metadata": {},
   "source": [
    "## Task 1"
   ]
  },
  {
   "cell_type": "markdown",
   "id": "4a843dbf",
   "metadata": {},
   "source": [
    "### (a) Calculate w and b for the support vectors"
   ]
  },
  {
   "cell_type": "code",
   "execution_count": 49,
   "id": "dfecaf92",
   "metadata": {},
   "outputs": [],
   "source": [
    "import numpy as np\n",
    "import pandas as pd\n",
    "import matplotlib.pyplot as plt\n",
    "from sklearn.svm import SVC\n",
    "import warnings\n",
    "warnings.filterwarnings('ignore')"
   ]
  },
  {
   "cell_type": "code",
   "execution_count": 4,
   "id": "de18f518",
   "metadata": {},
   "outputs": [],
   "source": [
    "data = pd.read_csv('svm_data.csv', sep=';')"
   ]
  },
  {
   "cell_type": "code",
   "execution_count": 15,
   "id": "6f60e7eb",
   "metadata": {},
   "outputs": [],
   "source": [
    "alpha = np.array([0.0437, 0.2162, 0.1427, 0.3589, 0.0437])"
   ]
  },
  {
   "cell_type": "code",
   "execution_count": 24,
   "id": "2defb2c6",
   "metadata": {},
   "outputs": [],
   "source": [
    "support_vectors = data.loc[[0, 1, 3, 12, 13]]"
   ]
  },
  {
   "cell_type": "code",
   "execution_count": 131,
   "id": "f9a5ea75",
   "metadata": {},
   "outputs": [],
   "source": [
    "X = support_vectors.drop(columns=['xi', 'yi'])\n",
    "y = support_vectors[['yi']]"
   ]
  },
  {
   "cell_type": "code",
   "execution_count": 45,
   "id": "70cefc9e",
   "metadata": {},
   "outputs": [
    {
     "data": {
      "text/html": [
       "<style>#sk-container-id-4 {color: black;}#sk-container-id-4 pre{padding: 0;}#sk-container-id-4 div.sk-toggleable {background-color: white;}#sk-container-id-4 label.sk-toggleable__label {cursor: pointer;display: block;width: 100%;margin-bottom: 0;padding: 0.3em;box-sizing: border-box;text-align: center;}#sk-container-id-4 label.sk-toggleable__label-arrow:before {content: \"▸\";float: left;margin-right: 0.25em;color: #696969;}#sk-container-id-4 label.sk-toggleable__label-arrow:hover:before {color: black;}#sk-container-id-4 div.sk-estimator:hover label.sk-toggleable__label-arrow:before {color: black;}#sk-container-id-4 div.sk-toggleable__content {max-height: 0;max-width: 0;overflow: hidden;text-align: left;background-color: #f0f8ff;}#sk-container-id-4 div.sk-toggleable__content pre {margin: 0.2em;color: black;border-radius: 0.25em;background-color: #f0f8ff;}#sk-container-id-4 input.sk-toggleable__control:checked~div.sk-toggleable__content {max-height: 200px;max-width: 100%;overflow: auto;}#sk-container-id-4 input.sk-toggleable__control:checked~label.sk-toggleable__label-arrow:before {content: \"▾\";}#sk-container-id-4 div.sk-estimator input.sk-toggleable__control:checked~label.sk-toggleable__label {background-color: #d4ebff;}#sk-container-id-4 div.sk-label input.sk-toggleable__control:checked~label.sk-toggleable__label {background-color: #d4ebff;}#sk-container-id-4 input.sk-hidden--visually {border: 0;clip: rect(1px 1px 1px 1px);clip: rect(1px, 1px, 1px, 1px);height: 1px;margin: -1px;overflow: hidden;padding: 0;position: absolute;width: 1px;}#sk-container-id-4 div.sk-estimator {font-family: monospace;background-color: #f0f8ff;border: 1px dotted black;border-radius: 0.25em;box-sizing: border-box;margin-bottom: 0.5em;}#sk-container-id-4 div.sk-estimator:hover {background-color: #d4ebff;}#sk-container-id-4 div.sk-parallel-item::after {content: \"\";width: 100%;border-bottom: 1px solid gray;flex-grow: 1;}#sk-container-id-4 div.sk-label:hover label.sk-toggleable__label {background-color: #d4ebff;}#sk-container-id-4 div.sk-serial::before {content: \"\";position: absolute;border-left: 1px solid gray;box-sizing: border-box;top: 0;bottom: 0;left: 50%;z-index: 0;}#sk-container-id-4 div.sk-serial {display: flex;flex-direction: column;align-items: center;background-color: white;padding-right: 0.2em;padding-left: 0.2em;position: relative;}#sk-container-id-4 div.sk-item {position: relative;z-index: 1;}#sk-container-id-4 div.sk-parallel {display: flex;align-items: stretch;justify-content: center;background-color: white;position: relative;}#sk-container-id-4 div.sk-item::before, #sk-container-id-4 div.sk-parallel-item::before {content: \"\";position: absolute;border-left: 1px solid gray;box-sizing: border-box;top: 0;bottom: 0;left: 50%;z-index: -1;}#sk-container-id-4 div.sk-parallel-item {display: flex;flex-direction: column;z-index: 1;position: relative;background-color: white;}#sk-container-id-4 div.sk-parallel-item:first-child::after {align-self: flex-end;width: 50%;}#sk-container-id-4 div.sk-parallel-item:last-child::after {align-self: flex-start;width: 50%;}#sk-container-id-4 div.sk-parallel-item:only-child::after {width: 0;}#sk-container-id-4 div.sk-dashed-wrapped {border: 1px dashed gray;margin: 0 0.4em 0.5em 0.4em;box-sizing: border-box;padding-bottom: 0.4em;background-color: white;}#sk-container-id-4 div.sk-label label {font-family: monospace;font-weight: bold;display: inline-block;line-height: 1.2em;}#sk-container-id-4 div.sk-label-container {text-align: center;}#sk-container-id-4 div.sk-container {/* jupyter's `normalize.less` sets `[hidden] { display: none; }` but bootstrap.min.css set `[hidden] { display: none !important; }` so we also need the `!important` here to be able to override the default hidden behavior on the sphinx rendered scikit-learn.org. See: https://github.com/scikit-learn/scikit-learn/issues/21755 */display: inline-block !important;position: relative;}#sk-container-id-4 div.sk-text-repr-fallback {display: none;}</style><div id=\"sk-container-id-4\" class=\"sk-top-container\"><div class=\"sk-text-repr-fallback\"><pre>SVC(kernel=&#x27;linear&#x27;)</pre><b>In a Jupyter environment, please rerun this cell to show the HTML representation or trust the notebook. <br />On GitHub, the HTML representation is unable to render, please try loading this page with nbviewer.org.</b></div><div class=\"sk-container\" hidden><div class=\"sk-item\"><div class=\"sk-estimator sk-toggleable\"><input class=\"sk-toggleable__control sk-hidden--visually\" id=\"sk-estimator-id-4\" type=\"checkbox\" checked><label for=\"sk-estimator-id-4\" class=\"sk-toggleable__label sk-toggleable__label-arrow\">SVC</label><div class=\"sk-toggleable__content\"><pre>SVC(kernel=&#x27;linear&#x27;)</pre></div></div></div></div></div>"
      ],
      "text/plain": [
       "SVC(kernel='linear')"
      ]
     },
     "execution_count": 45,
     "metadata": {},
     "output_type": "execute_result"
    }
   ],
   "source": [
    "model = SVC(kernel='linear')\n",
    "model.fit(X,y)"
   ]
  },
  {
   "cell_type": "code",
   "execution_count": 47,
   "id": "ebc92772",
   "metadata": {},
   "outputs": [
    {
     "name": "stdout",
     "output_type": "stream",
     "text": [
      "The weight w is [0.83310345 0.3337931 ]\n",
      "The bias b is -3.3333333333333335\n"
     ]
    }
   ],
   "source": [
    "print(f\"The weight w is {model.coef_[0]}\\nThe bias b is {model.intercept_[0]}\")"
   ]
  },
  {
   "cell_type": "markdown",
   "id": "af77c306",
   "metadata": {},
   "source": [
    "### (b)   Coordinate systems"
   ]
  },
  {
   "cell_type": "code",
   "execution_count": 64,
   "id": "e43657ea",
   "metadata": {},
   "outputs": [
    {
     "data": {
      "image/png": "[encoded data removed]",
      "text/plain": [
       "<Figure size 640x480 with 1 Axes>"
      ]
     },
     "metadata": {},
     "output_type": "display_data"
    }
   ],
   "source": [
    "plt.scatter(X.to_numpy()[:, 0], X.to_numpy()[:, 1], c=y.to_numpy(), cmap=plt.cm.Paired, marker='o', edgecolors='k')\n",
    "\n",
    "# Plot the decision boundary\n",
    "ax = plt.gca()\n",
    "xlim = ax.get_xlim()\n",
    "ylim = ax.get_ylim()\n",
    "\n",
    "# Create grid to evaluate model\n",
    "xx, yy = np.meshgrid(np.linspace(xlim[0], xlim[1], 50), np.linspace(ylim[0], ylim[1], 50))\n",
    "xy = np.c_[xx.ravel(), yy.ravel()]\n",
    "\n",
    "# Plot decision function\n",
    "Z = model.decision_function(xy).reshape(xx.shape)\n",
    "\n",
    "# Plot decision boundary and margins\n",
    "ax.contour(xx, yy, Z, colors='k', levels=[-1, 0, 1], alpha=0.5, linestyles=['--', '-', '--'])\n",
    "\n",
    "# Plot support vectors\n",
    "ax.scatter(support_vectors.to_numpy()[:, 0], support_vectors.to_numpy()[:, 1], s=100, linewidth=1, facecolors='none', edgecolors='k')\n",
    "\n",
    "plt.show()"
   ]
  },
  {
   "cell_type": "markdown",
   "id": "1aa46b9d",
   "metadata": {},
   "source": [
    "### (c) Misclassified points"
   ]
  },
  {
   "cell_type": "code",
   "execution_count": 97,
   "id": "2667c895",
   "metadata": {},
   "outputs": [],
   "source": [
    "y_pred = model.predict(X)"
   ]
  },
  {
   "cell_type": "code",
   "execution_count": 98,
   "id": "c952910d",
   "metadata": {},
   "outputs": [],
   "source": [
    "comparison_result = np.all(np.array(y)==y_pred, axis=0)"
   ]
  },
  {
   "cell_type": "code",
   "execution_count": 99,
   "id": "e6238584",
   "metadata": {},
   "outputs": [
    {
     "data": {
      "text/plain": [
       "True"
      ]
     },
     "execution_count": 99,
     "metadata": {},
     "output_type": "execute_result"
    }
   ],
   "source": [
    "comparison_result"
   ]
  },
  {
   "cell_type": "markdown",
   "id": "4bb52d91",
   "metadata": {},
   "source": [
    "Since the comparison result returns True, it means all values are correctly predicted, hence, no misclassified point."
   ]
  },
  {
   "cell_type": "markdown",
   "id": "05155b7f",
   "metadata": {},
   "source": [
    "# Task 2"
   ]
  },
  {
   "cell_type": "markdown",
   "id": "64c6029d",
   "metadata": {},
   "source": [
    "### (a) Generate datasets"
   ]
  },
  {
   "cell_type": "code",
   "execution_count": 100,
   "id": "1dcdec5b",
   "metadata": {},
   "outputs": [],
   "source": [
    "%run generator.py"
   ]
  },
  {
   "cell_type": "code",
   "execution_count": 101,
   "id": "914c3c73",
   "metadata": {},
   "outputs": [],
   "source": [
    "data1 = data_generator(-0.1,0.7,100)\n",
    "data2 = data_generator(0.1,2,100)\n",
    "data3 = data_generator(0.75,-0.2,100)\n",
    "data4 = data_generator(1,-1,100)"
   ]
  },
  {
   "cell_type": "markdown",
   "id": "df3d937d",
   "metadata": {},
   "source": [
    "### (b) Create an SVM Formula"
   ]
  },
  {
   "cell_type": "code",
   "execution_count": 107,
   "id": "60f89adb",
   "metadata": {},
   "outputs": [],
   "source": [
    "from scipy.optimize import minimize"
   ]
  },
  {
   "cell_type": "code",
   "execution_count": 135,
   "id": "aa0dbf6b",
   "metadata": {},
   "outputs": [],
   "source": [
    "class SVM_1:\n",
    "    def __init__(self):\n",
    "        self.weights = None\n",
    "        self.bias = None\n",
    "\n",
    "    def fit(self, X, y):\n",
    "        # Define the objective function for SVM\n",
    "        def objective(params):\n",
    "            w = params[:-1]\n",
    "            b = params[-1]\n",
    "            hinge_loss = np.maximum(1 - y * (np.dot(X, w) + b), 0)\n",
    "            regularization_term = 0.5 * np.dot(w, w)  # Regularization term (L2 norm)\n",
    "            return regularization_term + C * np.sum(hinge_loss)\n",
    "\n",
    "        # Set up the constraints for the minimization\n",
    "        constraints = ({'type': 'eq', 'fun': lambda params: np.dot(y, (np.dot(X, params[:-1]) + params[-1]))})\n",
    "\n",
    "        # Initialize weights and bias\n",
    "        initial_params = np.zeros(X.shape[1] + 1)\n",
    "\n",
    "        # Set a high value for C (inverse of regularization strength)\n",
    "        global C\n",
    "        C = 1e6\n",
    "\n",
    "        # Perform the minimization\n",
    "        result = minimize(objective, initial_params, constraints=constraints)\n",
    "\n",
    "        # Extract learned weights and bias\n",
    "        self.weights = result.x[:-1]\n",
    "        self.bias = result.x[-1]\n",
    "\n",
    "    def predict(self, X):\n",
    "        if self.weights is not None and self.bias is not None:\n",
    "            return np.sign(np.dot(X, self.weights) + self.bias)\n",
    "        else:\n",
    "            raise ValueError(\"Model has not been trained yet.\")"
   ]
  }
 ],
 "metadata": {
  "kernelspec": {
   "display_name": "Python 3 (ipykernel)",
   "language": "python",
   "name": "python3"
  },
  "language_info": {
   "codemirror_mode": {
    "name": "ipython",
    "version": 3
   },
   "file_extension": ".py",
   "mimetype": "text/x-python",
   "name": "python",
   "nbconvert_exporter": "python",
   "pygments_lexer": "ipython3",
   "version": "3.9.18"
  }
 },
 "nbformat": 4,
 "nbformat_minor": 5
}
